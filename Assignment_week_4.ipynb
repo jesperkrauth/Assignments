{
 "cells": [
  {
   "cell_type": "markdown",
   "metadata": {},
   "source": [
    "# Assignment for week 4\n",
    "\n",
    "Use the following table to provide us with\n",
    "\n",
    "|name | exam number|\n",
    "|----|----|\n",
    "|Jesper Krauth| u766044|"
   ]
  },
  {
   "cell_type": "markdown",
   "metadata": {
    "collapsed": true
   },
   "source": [
    "In this assignment, we will play around with functions and use the `fsolve` routine to solve an equation.\n",
    "\n",
    "First, we need to import some libraries.\n",
    "\n",
    "Recall that you need to have installed plotly for this to work. Further, you need to register at the plotly website."
   ]
  },
  {
   "cell_type": "code",
   "execution_count": 2,
   "metadata": {
    "collapsed": false
   },
   "outputs": [
    {
     "data": {
      "text/html": [
       "<script>requirejs.config({paths: { 'plotly': ['https://cdn.plot.ly/plotly-latest.min']},});if(!window.Plotly) {{require(['plotly'],function(plotly) {window.Plotly=plotly;});}}</script>"
      ],
      "text/vnd.plotly.v1+html": [
       "<script>requirejs.config({paths: { 'plotly': ['https://cdn.plot.ly/plotly-latest.min']},});if(!window.Plotly) {{require(['plotly'],function(plotly) {window.Plotly=plotly;});}}</script>"
      ]
     },
     "metadata": {},
     "output_type": "display_data"
    }
   ],
   "source": [
    "from scipy import optimize\n",
    "\n",
    "from plotly.offline import download_plotlyjs, init_notebook_mode, plot, iplot\n",
    "from plotly.graph_objs import Bar, Scatter, Figure, Layout\n",
    "init_notebook_mode(connected=True)\n",
    "from numpy import arange\n"
   ]
  },
  {
   "cell_type": "markdown",
   "metadata": {},
   "source": [
    "Let us define the function $f(x) = x^2+c$ which is a function of $x$ for a given value of $c$."
   ]
  },
  {
   "cell_type": "code",
   "execution_count": 3,
   "metadata": {
    "collapsed": true
   },
   "outputs": [],
   "source": [
    "def my_function(x,c):\n",
    "    return x**2 + c"
   ]
  },
  {
   "cell_type": "markdown",
   "metadata": {},
   "source": [
    "Now we would like to solve $x^2 + c =0$. As this is a simple equation, you can this analytically. This helps us to understand how `fsolve` works.\n",
    "\n",
    "If you want to know more about `fsolve`, simply google \"python fsolve\".\n",
    "\n",
    "For our purposes here, we call `fsolve` as `optimize.fsolve`, then we give a function and an initial value where `fsolve` starts looking for a solution. `fsolve` uses numerical techniques to find the \"zero\" of a function; it does not solve the equation analytically. Roughly speaking, it looks at a value of $x$ whether it is above or below 0. If it is below 0, it needs to change $x$ in such a way that $f(x)$ increases. It uses the derivative $f'(x)$ to figure out whether it should increase or decrease $x$ to get to $f(x)=0$. So suppose that $f(x) < 0$ and $f'(x) >0$ then it will increase $x$ (move to the right) to a solution to $f(x) =0$.\n",
    "\n",
    "As `my_function` is actually a function of two variables ($x$ and $c$), we define a new \"anonymous\" function `lambda` that is only a function of $x$ and we solve for this function to 0. Say, we start looking for a solution at $x=1$, then we type:"
   ]
  },
  {
   "cell_type": "code",
   "execution_count": 17,
   "metadata": {
    "collapsed": false
   },
   "outputs": [
    {
     "data": {
      "text/plain": [
       "array([ 1.41421356])"
      ]
     },
     "execution_count": 17,
     "metadata": {},
     "output_type": "execute_result"
    }
   ],
   "source": [
    "optimize.fsolve(lambda x: my_function(x,-2),+1)"
   ]
  },
  {
   "cell_type": "markdown",
   "metadata": {},
   "source": [
    "# This only gives one solution? But with a quadratic equation, there are usually two solutions. In the following cell give the python command to give the other solution:"
   ]
  },
  {
   "cell_type": "code",
   "execution_count": 21,
   "metadata": {
    "collapsed": false
   },
   "outputs": [
    {
     "data": {
      "text/plain": [
       "array([-1.41421356])"
      ]
     },
     "execution_count": 21,
     "metadata": {},
     "output_type": "execute_result"
    }
   ],
   "source": [
    "optimize.fsolve(lambda x: my_function(x,-2),-1)"
   ]
  },
  {
   "cell_type": "markdown",
   "metadata": {},
   "source": [
    "Now try the following cell. Explain below why you get an error message; $x=0$ does not solve this equation?"
   ]
  },
  {
   "cell_type": "code",
   "execution_count": 22,
   "metadata": {
    "collapsed": false
   },
   "outputs": [
    {
     "name": "stderr",
     "output_type": "stream",
     "text": [
      "//anaconda/lib/python3.6/site-packages/scipy/optimize/minpack.py:161: RuntimeWarning:\n",
      "\n",
      "The iteration is not making good progress, as measured by the \n",
      "  improvement from the last ten iterations.\n",
      "\n"
     ]
    },
    {
     "data": {
      "text/plain": [
       "array([ 0.])"
      ]
     },
     "execution_count": 22,
     "metadata": {},
     "output_type": "execute_result"
    }
   ],
   "source": [
    "optimize.fsolve(lambda x: my_function(x,-2),0)"
   ]
  },
  {
   "cell_type": "markdown",
   "metadata": {},
   "source": [
    "Explanation: we have a function $f(x) = x^2$. If we take the derivative, we obtain $f'(x) = 2x$. If $x = 0$, then the derivative will have a value of 0, too. It cannot use the derivative to figure out whether it should increase or decrease $x$ to get to $f(x) = 0$."
   ]
  },
  {
   "cell_type": "markdown",
   "metadata": {},
   "source": [
    "Now we let's consider another function, with $c = 2$ (instead of $c = -2$). Explain below why we get an error this time"
   ]
  },
  {
   "cell_type": "code",
   "execution_count": 5,
   "metadata": {
    "collapsed": false
   },
   "outputs": [
    {
     "name": "stderr",
     "output_type": "stream",
     "text": [
      "//anaconda/envs/py35/lib/python3.5/site-packages/scipy/optimize/minpack.py:161: RuntimeWarning: The iteration is not making good progress, as measured by the \n",
      "  improvement from the last ten iterations.\n",
      "  warnings.warn(msg, RuntimeWarning)\n"
     ]
    },
    {
     "data": {
      "text/plain": [
       "array([-0.00097656])"
      ]
     },
     "execution_count": 5,
     "metadata": {},
     "output_type": "execute_result"
    }
   ],
   "source": [
    "optimize.fsolve(lambda x: my_function(x,2),-1)"
   ]
  },
  {
   "cell_type": "markdown",
   "metadata": {},
   "source": [
    "Explanation: In this case, $c$ is positive ($c = 2$). So, if we have the formula $x^2 + c = 0$, and $c$ is positive, then $x^2$ has to be negative to obtain a result of $0$. Yet, a square root of a number can never be negative, hence the error we obtain."
   ]
  },
  {
   "cell_type": "markdown",
   "metadata": {},
   "source": [
    "Now define the function $f(x) = \\frac{1}{x}$ in python:"
   ]
  },
  {
   "cell_type": "code",
   "execution_count": 24,
   "metadata": {
    "collapsed": false
   },
   "outputs": [],
   "source": [
    "def my_function(x,c):\n",
    "    return 1/x"
   ]
  },
  {
   "cell_type": "markdown",
   "metadata": {},
   "source": [
    "and use plotly to plot this function for $x > 0$. Adjust the range for $x$ so that you get a \"decent\" graph."
   ]
  },
  {
   "cell_type": "code",
   "execution_count": 44,
   "metadata": {
    "collapsed": false
   },
   "outputs": [
    {
     "data": {
      "application/vnd.plotly.v1+json": {
       "data": [
        {
         "x": [
          0.01,
          0.02,
          0.03,
          0.04,
          0.05,
          0.060000000000000005,
          0.06999999999999999,
          0.08,
          0.09,
          0.09999999999999999,
          0.11,
          0.12,
          0.13,
          0.14,
          0.15000000000000002,
          0.16,
          0.17,
          0.18000000000000002,
          0.19,
          0.2,
          0.21000000000000002,
          0.22,
          0.23,
          0.24000000000000002,
          0.25,
          0.26,
          0.27,
          0.28,
          0.29000000000000004,
          0.3,
          0.31,
          0.32,
          0.33,
          0.34,
          0.35000000000000003,
          0.36000000000000004,
          0.37,
          0.38,
          0.39,
          0.4,
          0.41000000000000003,
          0.42000000000000004,
          0.43,
          0.44,
          0.45,
          0.46,
          0.47000000000000003,
          0.48000000000000004,
          0.49,
          0.5,
          0.51,
          0.52,
          0.53,
          0.54,
          0.55,
          0.56,
          0.5700000000000001,
          0.5800000000000001,
          0.59,
          0.6,
          0.61,
          0.62,
          0.63,
          0.64,
          0.65,
          0.66,
          0.67,
          0.68,
          0.6900000000000001,
          0.7000000000000001,
          0.7100000000000001,
          0.72,
          0.73,
          0.74,
          0.75,
          0.76,
          0.77,
          0.78,
          0.79,
          0.8,
          0.81,
          0.8200000000000001,
          0.8300000000000001,
          0.8400000000000001,
          0.85,
          0.86,
          0.87,
          0.88,
          0.89,
          0.9,
          0.91,
          0.92,
          0.93,
          0.9400000000000001,
          0.9500000000000001,
          0.9600000000000001,
          0.97,
          0.98,
          0.99,
          1
         ],
         "y": [
          100,
          50,
          33.333333333333336,
          25,
          20,
          16.666666666666664,
          14.285714285714286,
          12.5,
          11.11111111111111,
          10,
          9.090909090909092,
          8.333333333333334,
          7.692307692307692,
          7.142857142857142,
          6.666666666666666,
          6.25,
          5.88235294117647,
          5.5555555555555545,
          5.2631578947368425,
          5,
          4.761904761904762,
          4.545454545454546,
          4.3478260869565215,
          4.166666666666666,
          4,
          3.846153846153846,
          3.7037037037037033,
          3.571428571428571,
          3.4482758620689653,
          3.3333333333333335,
          3.2258064516129035,
          3.125,
          3.0303030303030303,
          2.941176470588235,
          2.8571428571428568,
          2.7777777777777772,
          2.7027027027027026,
          2.6315789473684212,
          2.564102564102564,
          2.5,
          2.4390243902439024,
          2.380952380952381,
          2.3255813953488373,
          2.272727272727273,
          2.2222222222222223,
          2.1739130434782608,
          2.127659574468085,
          2.083333333333333,
          2.0408163265306123,
          2,
          1.9607843137254901,
          1.923076923076923,
          1.8867924528301885,
          1.8518518518518516,
          1.8181818181818181,
          1.7857142857142856,
          1.7543859649122806,
          1.7241379310344827,
          1.6949152542372883,
          1.6666666666666667,
          1.639344262295082,
          1.6129032258064517,
          1.5873015873015872,
          1.5625,
          1.5384615384615383,
          1.5151515151515151,
          1.4925373134328357,
          1.4705882352941175,
          1.4492753623188404,
          1.4285714285714284,
          1.408450704225352,
          1.3888888888888888,
          1.36986301369863,
          1.3513513513513513,
          1.3333333333333333,
          1.3157894736842106,
          1.2987012987012987,
          1.282051282051282,
          1.2658227848101264,
          1.25,
          1.2345679012345678,
          1.2195121951219512,
          1.2048192771084336,
          1.1904761904761905,
          1.1764705882352942,
          1.1627906976744187,
          1.1494252873563218,
          1.1363636363636365,
          1.1235955056179776,
          1.1111111111111112,
          1.0989010989010988,
          1.0869565217391304,
          1.075268817204301,
          1.0638297872340425,
          1.0526315789473684,
          1.0416666666666665,
          1.0309278350515465,
          1.0204081632653061,
          1.0101010101010102,
          1
         ]
        }
       ],
       "layout": {}
      },
      "text/html": [
       "<div id=\"b75c7e7e-7711-418f-ab63-27692074534b\" style=\"height: 525px; width: 100%;\" class=\"plotly-graph-div\"></div><script type=\"text/javascript\">require([\"plotly\"], function(Plotly) { window.PLOTLYENV=window.PLOTLYENV || {};window.PLOTLYENV.BASE_URL=\"https://plot.ly\";Plotly.newPlot(\"b75c7e7e-7711-418f-ab63-27692074534b\", [{\"x\": [0.01, 0.02, 0.03, 0.04, 0.05, 0.060000000000000005, 0.06999999999999999, 0.08, 0.09, 0.09999999999999999, 0.11, 0.12, 0.13, 0.14, 0.15000000000000002, 0.16, 0.17, 0.18000000000000002, 0.19, 0.2, 0.21000000000000002, 0.22, 0.23, 0.24000000000000002, 0.25, 0.26, 0.27, 0.28, 0.29000000000000004, 0.3, 0.31, 0.32, 0.33, 0.34, 0.35000000000000003, 0.36000000000000004, 0.37, 0.38, 0.39, 0.4, 0.41000000000000003, 0.42000000000000004, 0.43, 0.44, 0.45, 0.46, 0.47000000000000003, 0.48000000000000004, 0.49, 0.5, 0.51, 0.52, 0.53, 0.54, 0.55, 0.56, 0.5700000000000001, 0.5800000000000001, 0.59, 0.6, 0.61, 0.62, 0.63, 0.64, 0.65, 0.66, 0.67, 0.68, 0.6900000000000001, 0.7000000000000001, 0.7100000000000001, 0.72, 0.73, 0.74, 0.75, 0.76, 0.77, 0.78, 0.79, 0.8, 0.81, 0.8200000000000001, 0.8300000000000001, 0.8400000000000001, 0.85, 0.86, 0.87, 0.88, 0.89, 0.9, 0.91, 0.92, 0.93, 0.9400000000000001, 0.9500000000000001, 0.9600000000000001, 0.97, 0.98, 0.99, 1.0], \"y\": [100.0, 50.0, 33.333333333333336, 25.0, 20.0, 16.666666666666664, 14.285714285714286, 12.5, 11.11111111111111, 10.0, 9.090909090909092, 8.333333333333334, 7.692307692307692, 7.142857142857142, 6.666666666666666, 6.25, 5.88235294117647, 5.5555555555555545, 5.2631578947368425, 5.0, 4.761904761904762, 4.545454545454546, 4.3478260869565215, 4.166666666666666, 4.0, 3.846153846153846, 3.7037037037037033, 3.571428571428571, 3.4482758620689653, 3.3333333333333335, 3.2258064516129035, 3.125, 3.0303030303030303, 2.941176470588235, 2.8571428571428568, 2.7777777777777772, 2.7027027027027026, 2.6315789473684212, 2.564102564102564, 2.5, 2.4390243902439024, 2.380952380952381, 2.3255813953488373, 2.272727272727273, 2.2222222222222223, 2.1739130434782608, 2.127659574468085, 2.083333333333333, 2.0408163265306123, 2.0, 1.9607843137254901, 1.923076923076923, 1.8867924528301885, 1.8518518518518516, 1.8181818181818181, 1.7857142857142856, 1.7543859649122806, 1.7241379310344827, 1.6949152542372883, 1.6666666666666667, 1.639344262295082, 1.6129032258064517, 1.5873015873015872, 1.5625, 1.5384615384615383, 1.5151515151515151, 1.4925373134328357, 1.4705882352941175, 1.4492753623188404, 1.4285714285714284, 1.408450704225352, 1.3888888888888888, 1.36986301369863, 1.3513513513513513, 1.3333333333333333, 1.3157894736842106, 1.2987012987012987, 1.282051282051282, 1.2658227848101264, 1.25, 1.2345679012345678, 1.2195121951219512, 1.2048192771084336, 1.1904761904761905, 1.1764705882352942, 1.1627906976744187, 1.1494252873563218, 1.1363636363636365, 1.1235955056179776, 1.1111111111111112, 1.0989010989010988, 1.0869565217391304, 1.075268817204301, 1.0638297872340425, 1.0526315789473684, 1.0416666666666665, 1.0309278350515465, 1.0204081632653061, 1.0101010101010102, 1.0]}], {}, {\"showLink\": true, \"linkText\": \"Export to plot.ly\"})});</script>"
      ],
      "text/vnd.plotly.v1+html": [
       "<div id=\"b75c7e7e-7711-418f-ab63-27692074534b\" style=\"height: 525px; width: 100%;\" class=\"plotly-graph-div\"></div><script type=\"text/javascript\">require([\"plotly\"], function(Plotly) { window.PLOTLYENV=window.PLOTLYENV || {};window.PLOTLYENV.BASE_URL=\"https://plot.ly\";Plotly.newPlot(\"b75c7e7e-7711-418f-ab63-27692074534b\", [{\"x\": [0.01, 0.02, 0.03, 0.04, 0.05, 0.060000000000000005, 0.06999999999999999, 0.08, 0.09, 0.09999999999999999, 0.11, 0.12, 0.13, 0.14, 0.15000000000000002, 0.16, 0.17, 0.18000000000000002, 0.19, 0.2, 0.21000000000000002, 0.22, 0.23, 0.24000000000000002, 0.25, 0.26, 0.27, 0.28, 0.29000000000000004, 0.3, 0.31, 0.32, 0.33, 0.34, 0.35000000000000003, 0.36000000000000004, 0.37, 0.38, 0.39, 0.4, 0.41000000000000003, 0.42000000000000004, 0.43, 0.44, 0.45, 0.46, 0.47000000000000003, 0.48000000000000004, 0.49, 0.5, 0.51, 0.52, 0.53, 0.54, 0.55, 0.56, 0.5700000000000001, 0.5800000000000001, 0.59, 0.6, 0.61, 0.62, 0.63, 0.64, 0.65, 0.66, 0.67, 0.68, 0.6900000000000001, 0.7000000000000001, 0.7100000000000001, 0.72, 0.73, 0.74, 0.75, 0.76, 0.77, 0.78, 0.79, 0.8, 0.81, 0.8200000000000001, 0.8300000000000001, 0.8400000000000001, 0.85, 0.86, 0.87, 0.88, 0.89, 0.9, 0.91, 0.92, 0.93, 0.9400000000000001, 0.9500000000000001, 0.9600000000000001, 0.97, 0.98, 0.99, 1.0], \"y\": [100.0, 50.0, 33.333333333333336, 25.0, 20.0, 16.666666666666664, 14.285714285714286, 12.5, 11.11111111111111, 10.0, 9.090909090909092, 8.333333333333334, 7.692307692307692, 7.142857142857142, 6.666666666666666, 6.25, 5.88235294117647, 5.5555555555555545, 5.2631578947368425, 5.0, 4.761904761904762, 4.545454545454546, 4.3478260869565215, 4.166666666666666, 4.0, 3.846153846153846, 3.7037037037037033, 3.571428571428571, 3.4482758620689653, 3.3333333333333335, 3.2258064516129035, 3.125, 3.0303030303030303, 2.941176470588235, 2.8571428571428568, 2.7777777777777772, 2.7027027027027026, 2.6315789473684212, 2.564102564102564, 2.5, 2.4390243902439024, 2.380952380952381, 2.3255813953488373, 2.272727272727273, 2.2222222222222223, 2.1739130434782608, 2.127659574468085, 2.083333333333333, 2.0408163265306123, 2.0, 1.9607843137254901, 1.923076923076923, 1.8867924528301885, 1.8518518518518516, 1.8181818181818181, 1.7857142857142856, 1.7543859649122806, 1.7241379310344827, 1.6949152542372883, 1.6666666666666667, 1.639344262295082, 1.6129032258064517, 1.5873015873015872, 1.5625, 1.5384615384615383, 1.5151515151515151, 1.4925373134328357, 1.4705882352941175, 1.4492753623188404, 1.4285714285714284, 1.408450704225352, 1.3888888888888888, 1.36986301369863, 1.3513513513513513, 1.3333333333333333, 1.3157894736842106, 1.2987012987012987, 1.282051282051282, 1.2658227848101264, 1.25, 1.2345679012345678, 1.2195121951219512, 1.2048192771084336, 1.1904761904761905, 1.1764705882352942, 1.1627906976744187, 1.1494252873563218, 1.1363636363636365, 1.1235955056179776, 1.1111111111111112, 1.0989010989010988, 1.0869565217391304, 1.075268817204301, 1.0638297872340425, 1.0526315789473684, 1.0416666666666665, 1.0309278350515465, 1.0204081632653061, 1.0101010101010102, 1.0]}], {}, {\"showLink\": true, \"linkText\": \"Export to plot.ly\"})});</script>"
      ]
     },
     "metadata": {},
     "output_type": "display_data"
    }
   ],
   "source": [
    "range_x = arange(0.01,1.01,0.01)\n",
    "iplot([{\"x\": range_x, \"y\": [1/x for x in range_x]}])"
   ]
  },
  {
   "cell_type": "code",
   "execution_count": null,
   "metadata": {
    "collapsed": true
   },
   "outputs": [],
   "source": []
  }
 ],
 "metadata": {
  "anaconda-cloud": {},
  "kernelspec": {
   "display_name": "Python 3",
   "language": "python",
   "name": "python3"
  },
  "language_info": {
   "codemirror_mode": {
    "name": "ipython",
    "version": 3
   },
   "file_extension": ".py",
   "mimetype": "text/x-python",
   "name": "python",
   "nbconvert_exporter": "python",
   "pygments_lexer": "ipython3",
   "version": "3.6.0"
  }
 },
 "nbformat": 4,
 "nbformat_minor": 0
}
